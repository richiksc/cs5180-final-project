{
 "cells": [
  {
   "cell_type": "code",
   "execution_count": 14,
   "metadata": {},
   "outputs": [],
   "source": [
    "from collections import deque, namedtuple\n",
    "from gymnasium import spaces\n",
    "import gymnasium as gym\n",
    "import numpy as np\n",
    "import matplotlib.pyplot as plt\n",
    "import torch\n",
    "from torch import nn\n",
    "from torch.distributions import Categorical\n",
    "import torch.nn.functional as F\n",
    "import tqdm\n",
    "import pickle"
   ]
  },
  {
   "cell_type": "code",
   "execution_count": 2,
   "metadata": {},
   "outputs": [],
   "source": [
    "LOG_LEVEL='info'"
   ]
  },
  {
   "cell_type": "markdown",
   "metadata": {},
   "source": [
    "## Four Rooms Environment"
   ]
  },
  {
   "cell_type": "code",
   "execution_count": 3,
   "metadata": {},
   "outputs": [],
   "source": [
    "class FourRooms(object):\n",
    "    def __init__(self, reward_fn='sparse'):\n",
    "        # The grid for the Four Rooms domain\n",
    "        self.grid = np.array([[0, 0, 0, 0, 0, 1, 0, 0, 0, 0, 0],\n",
    "                              [0, 0, 0, 0, 0, 1, 0, 0, 0, 0, 0],\n",
    "                              [0, 0, 0, 0, 0, 0, 0, 0, 0, 0, 0],\n",
    "                              [0, 0, 0, 0, 0, 1, 0, 0, 0, 0, 0],\n",
    "                              [0, 0, 0, 0, 0, 1, 0, 0, 0, 0, 0],\n",
    "                              [1, 0, 1, 1, 1, 1, 0, 0, 0, 0, 0],\n",
    "                              [0, 0, 0, 0, 0, 1, 1, 1, 0, 1, 1],\n",
    "                              [0, 0, 0, 0, 0, 1, 0, 0, 0, 0, 0],\n",
    "                              [0, 0, 0, 0, 0, 1, 0, 0, 0, 0, 0],\n",
    "                              [0, 0, 0, 0, 0, 0, 0, 0, 0, 0, 0],\n",
    "                              [0, 0, 0, 0, 0, 1, 0, 0, 0, 0, 0]])\n",
    "\n",
    "        # Observation (state) space consists of all empty cells\n",
    "        # To improve interpretability, we flip the coordinates from (row_idx, column_idx) -> (x, y),\n",
    "        # where x = column_idx, y = 10 - row_idx\n",
    "        self.observation_space = np.argwhere(self.grid == 0.0).tolist()  # Fine all empty cells\n",
    "        self.observation_space = self.arr_coords_to_four_room_coords(self.observation_space)\n",
    "\n",
    "        # Action space\n",
    "        self.action_movement = {0: np.array([0, 1]),  # up\n",
    "                                1: np.array([0, -1]),  # down\n",
    "                                2: np.array([-1, 0]),  # left\n",
    "                                3: np.array([1, 0])}  # right\n",
    "        self.action_space = spaces.Discrete(4)\n",
    "\n",
    "        # Start location\n",
    "        self.start_location = [0, 0]\n",
    "\n",
    "        # Goal location\n",
    "        self.goal_location = [10, 10]\n",
    "\n",
    "        # Wall locations\n",
    "        self.walls = np.argwhere(self.grid == 1.0).tolist()  # find all wall cells\n",
    "        self.walls = self.arr_coords_to_four_room_coords(self.walls)  # convert to Four Rooms coordinates\n",
    "\n",
    "        # This is an episodic task, with a timeout of 459 steps\n",
    "        self.max_time_steps = 459\n",
    "\n",
    "        # Tracking variables during a single episode\n",
    "        self.agent_location = None  # Track the agent's location in one episode.\n",
    "        self.action = None  # Track the agent's action\n",
    "        self.t = 0  # Track the current time step in one episode\n",
    "\n",
    "        # reward function type\n",
    "        self.reward_fn = reward_fn\n",
    "\n",
    "    @staticmethod\n",
    "    def arr_coords_to_four_room_coords(arr_coords_list):\n",
    "        \"\"\"\n",
    "        Function converts the array coordinates ((row, col), origin is top left)\n",
    "        to the Four Rooms coordinates ((x, y), origin is bottom left)\n",
    "        E.g., The coordinates (0, 0) in the numpy array is mapped to (0, 10) in the Four Rooms coordinates.\n",
    "        Args:\n",
    "            arr_coords_list (list): List variable consisting of tuples of locations in the numpy array\n",
    "\n",
    "        Return:\n",
    "            four_room_coords_list (list): List variable consisting of tuples of converted locations in the\n",
    "                                          Four Rooms environment.\n",
    "        \"\"\"\n",
    "        # Flip the coordinates from (row_idx, column_idx) -> (x, y),\n",
    "        # where x = column_idx, y = 10 - row_idx\n",
    "        four_room_coords_list = [(column_idx, 10 - row_idx) for (row_idx, column_idx) in arr_coords_list]\n",
    "        return four_room_coords_list\n",
    "\n",
    "    def reset(self):\n",
    "        # Reset the agent's location to the start location\n",
    "        self.agent_location = self.start_location\n",
    "\n",
    "        # Reset the timeout tracker to be 0\n",
    "        self.t = 0\n",
    "\n",
    "        # Reset the information\n",
    "        info = {}\n",
    "        return self.agent_location, info\n",
    "\n",
    "    def step(self, action):\n",
    "        \"\"\"\n",
    "        Args:\n",
    "            action (int): Int variable (i.e., 0 for \"up\"). See self.action_movement above for more details.\n",
    "        \"\"\"\n",
    "        # With probability 0.8, the agent takes the correct direction.\n",
    "        # With probability 0.2, the agent takes one of the two perpendicular actions.\n",
    "        # For example, if the correct action is \"LEFT\", then\n",
    "        #     - With probability 0.8, the agent takes action \"LEFT\";\n",
    "        #     - With probability 0.1, the agent takes action \"UP\";\n",
    "        #     - With probability 0.1, the agent takes action \"DOWN\".\n",
    "        if np.random.uniform() < 0.2:\n",
    "            if action == 2 or action == 3:\n",
    "                action = np.random.choice([0, 1], 1)[0]\n",
    "            else:\n",
    "                action = np.random.choice([2, 3], 1)[0]\n",
    "\n",
    "        # Convert the agent's location to array\n",
    "        loc_arr = np.array(self.agent_location)\n",
    "\n",
    "        # Convert the action name to movement array\n",
    "        act_arr = self.action_movement[action]\n",
    "\n",
    "        # Compute the agent's next location\n",
    "        next_agent_location = np.clip(loc_arr + act_arr,\n",
    "                                      a_min=np.array([0, 0]),\n",
    "                                      a_max=np.array([10, 10])).tolist()\n",
    "\n",
    "        # Check if the agent crashes into walls; if so, it stays at the current location.\n",
    "        if tuple(next_agent_location) in self.walls:\n",
    "            next_agent_location = self.agent_location\n",
    "\n",
    "        # Compute the reward (1 iff next state is goal location)\n",
    "        if self.reward_fn == 'dense':\n",
    "            reward = 0.0 if next_agent_location == self.goal_location else -1.0\n",
    "        elif self.reward_fn == 'manhattan':\n",
    "            manhattan_dist = np.abs(np.array(next_agent_location) - np.array(self.goal_location)).sum()\n",
    "            reward = -manhattan_dist\n",
    "        else:\n",
    "            reward = 1.0 if next_agent_location == self.goal_location else 0.0\n",
    "\n",
    "        # Check termination/truncation\n",
    "        # If agent reaches the goal, reward = 1, terminated = True\n",
    "        # If timeout is reached, reward = 0, truncated = True\n",
    "        terminated = False\n",
    "        truncated = False\n",
    "        if reward == 1.0:\n",
    "            terminated = True\n",
    "        elif self.t == self.max_time_steps:\n",
    "            truncated = True\n",
    "\n",
    "        # Update the agent's location, action, and time step trackers\n",
    "        self.agent_location = next_agent_location\n",
    "        self.action = action\n",
    "        self.t += 1\n",
    "\n",
    "        return next_agent_location, reward, terminated, truncated, {}\n",
    "\n",
    "    def render(self):\n",
    "        # Plot the agent and the goal\n",
    "        # empty cell = 0\n",
    "        # wall cell = 1\n",
    "        # agent cell = 2\n",
    "        # goal cell = 3\n",
    "        plot_arr = self.grid.copy()\n",
    "        plot_arr[10 - self.agent_location[1], self.agent_location[0]] = 2\n",
    "        plot_arr[10 - self.goal_location[1], self.goal_location[0]] = 3\n",
    "        plt.clf()\n",
    "        plt.title(f\"state={self.agent_location}, act={self.action_movement[self.action]}\")\n",
    "        plt.imshow(plot_arr)\n",
    "        plt.show(block=False)\n",
    "        plt.pause(0.1)\n",
    "\n",
    "    @staticmethod\n",
    "    def test():\n",
    "        env = FourRooms()\n",
    "        state, info = env.reset()\n",
    "\n",
    "        for _ in range(1000):\n",
    "            action = env.action_space.sample()\n",
    "            next_state, reward, terminated, truncated, info = env.step(action)\n",
    "            env.render()\n",
    "            if terminated or truncated:\n",
    "                state, info = env.reset()\n",
    "            else:\n",
    "                state = next_state\n",
    "\n",
    "# Un-comment to run test function\n",
    "# FourRooms.test()"
   ]
  },
  {
   "cell_type": "code",
   "execution_count": 4,
   "metadata": {},
   "outputs": [],
   "source": [
    "def moving_average(data, *, window_size = 50):\n",
    "    \"\"\"Smooths 1-D data array using a moving average.\n",
    "\n",
    "    Args:\n",
    "        data: 1-D numpy.array\n",
    "        window_size: Size of the smoothing window\n",
    "\n",
    "    Returns:\n",
    "        smooth_data: A 1-d numpy.array with the same size as data\n",
    "    \"\"\"\n",
    "    assert data.ndim == 1\n",
    "    kernel = np.ones(window_size)\n",
    "    smooth_data = np.convolve(data, kernel) / np.convolve(\n",
    "        np.ones_like(data), kernel\n",
    "    )\n",
    "    return smooth_data[: -window_size + 1]"
   ]
  },
  {
   "cell_type": "code",
   "execution_count": 5,
   "metadata": {},
   "outputs": [],
   "source": [
    "def plot_curves(arr_list, legend_list, color_list, ylabel, fig_title, smoothing = True):\n",
    "    \"\"\"\n",
    "    Args:\n",
    "        arr_list (list): List of results arrays to plot\n",
    "        legend_list (list): List of legends corresponding to each result array\n",
    "        color_list (list): List of color corresponding to each result array\n",
    "        ylabel (string): Label of the vertical axis\n",
    "\n",
    "        Make sure the elements in the arr_list, legend_list, and color_list\n",
    "        are associated with each other correctly (in the same order).\n",
    "        Do not forget to change the ylabel for different plots.\n",
    "    \"\"\"\n",
    "    # Set the figure type\n",
    "    fig, ax = plt.subplots(figsize=(12, 8))\n",
    "\n",
    "    # PLEASE NOTE: Change the vertical labels for different plots\n",
    "    ax.set_ylabel(ylabel)\n",
    "    ax.set_xlabel(\"Time Steps\")\n",
    "\n",
    "    # Plot results\n",
    "    h_list = []\n",
    "    for arr, legend, color in zip(arr_list, legend_list, color_list):\n",
    "        # Compute the standard error (of raw data, not smoothed)\n",
    "        arr_err = arr.std(axis=0) / np.sqrt(arr.shape[0])\n",
    "        # Plot the mean\n",
    "        averages = moving_average(arr.mean(axis=0)) if smoothing else arr.mean(axis=0)\n",
    "        h, = ax.plot(range(arr.shape[1]), averages, color=color, label=legend)\n",
    "        # Plot the confidence band\n",
    "        arr_err *= 1.96\n",
    "        print(f\"{(averages - arr_err).shape=}\")\n",
    "        ax.fill_between(range(arr.shape[1]), averages - arr_err, averages + arr_err, alpha=0.3,\n",
    "                        color=color)\n",
    "        # Save the plot handle\n",
    "        h_list.append(h)\n",
    "\n",
    "    # Plot legends\n",
    "    ax.set_title(f\"{fig_title}\")\n",
    "    ax.legend(handles=h_list)\n",
    "\n",
    "    plt.show()"
   ]
  },
  {
   "cell_type": "markdown",
   "metadata": {},
   "source": [
    "## PPO Implementation"
   ]
  },
  {
   "cell_type": "markdown",
   "metadata": {},
   "source": [
    "### Actor Critic Networks"
   ]
  },
  {
   "cell_type": "code",
   "execution_count": 40,
   "metadata": {},
   "outputs": [],
   "source": [
    "# Policy and value networks\n",
    "class ActorCriticNet(nn.Module):\n",
    "    def __init__(self, observation_dim=3, hidden_dim=128, n_hidden=1, action_dim=4):\n",
    "        super(ActorCriticNet, self).__init__()\n",
    "\n",
    "        \"\"\" YOUR CODE HERE:\n",
    "                Implement the critic network here. The architecture should be:\n",
    "\n",
    "                Layer 1: Linear, input size 3, output size 128\n",
    "                Activation 1: ReLU\n",
    "                Layer 2: Linear, input size 128, output size 1\n",
    "                Activation 2: Identity (or none)\n",
    "        \"\"\"\n",
    "        self.n_hidden = n_hidden\n",
    "\n",
    "        self.critic_in = nn.Linear(observation_dim, hidden_dim)\n",
    "        if n_hidden > 1:\n",
    "            self.critic_hidden = nn.ModuleList([nn.Linear(hidden_dim, hidden_dim)] * (n_hidden - 1))\n",
    "        self.relu = nn.ReLU()\n",
    "        self.critic_out = nn.Linear(hidden_dim, 1)\n",
    "\n",
    "        \"\"\" YOUR CODE HERE:\n",
    "                Implement the actor network here. The architecture should be (same as before):\n",
    "\n",
    "                Layer 1: Linear, input size 3, output size 128\n",
    "                Activation 1: ReLU\n",
    "                Layer 2: Linear, input size 128, output size 4\n",
    "                Activation 2: Softmax\n",
    "        \"\"\"\n",
    "        self.actor_in = nn.Linear(observation_dim, hidden_dim)\n",
    "        if n_hidden > 1:\n",
    "            self.actor_hidden = nn.ModuleList([nn.Linear(hidden_dim, hidden_dim)] * (n_hidden - 1))\n",
    "        # reuse self.relu\n",
    "        self.actor_out = nn.Linear(hidden_dim, action_dim)\n",
    "        self.softmax = nn.Softmax(dim=-1)\n",
    "\n",
    "        # create module groups\n",
    "        if n_hidden > 1:\n",
    "            self.groups = nn.ModuleDict({\n",
    "                'actor': nn.ModuleList([self.actor_in, self.actor_hidden, self.actor_out]),\n",
    "                'critic': nn.ModuleList([self.critic_in, self.critic_hidden, self.critic_out])\n",
    "            })\n",
    "        else:\n",
    "            self.groups = nn.ModuleDict({\n",
    "                'actor': nn.ModuleList([self.actor_in, self.actor_out]),\n",
    "                'critic': nn.ModuleList([self.critic_in, self.critic_out])\n",
    "            })\n",
    "\n",
    "\n",
    "    def forward(self, x):\n",
    "        \"\"\" YOUR CODE HERE:\n",
    "                Implement the forward propagation for both actor and critic networks\n",
    "        \"\"\"\n",
    "\n",
    "        critic_x = self.critic_in(x)\n",
    "        critic_x = self.relu(critic_x)\n",
    "        if self.critic_hidden is not None:\n",
    "            for layer in self.critic_hidden:\n",
    "                critic_x = layer(critic_x)\n",
    "                critic_x = self.relu(critic_x)\n",
    "\n",
    "        state_value = self.critic_out(critic_x)\n",
    "\n",
    "        actor_x = self.actor_in(x)\n",
    "        actor_x = self.relu(actor_x)\n",
    "        if self.actor_hidden is not None:\n",
    "            for layer in self.actor_hidden:\n",
    "                actor_x = layer(actor_x)\n",
    "                actor_x = self.relu(actor_x)\n",
    "        actor_x = self.actor_out(actor_x)\n",
    "        action_probs = self.softmax(actor_x)\n",
    "\n",
    "        return state_value, action_probs"
   ]
  },
  {
   "cell_type": "code",
   "execution_count": 7,
   "metadata": {},
   "outputs": [],
   "source": [
    "class SharedActorCriticNet(nn.Module):\n",
    "    def __init__(self, observation_dim=3, hidden_dim=128, action_dim=4):\n",
    "        super(SharedActorCriticNet, self).__init__()\n",
    "\n",
    "        \"\"\" YOUR CODE HERE:\n",
    "                Implement the critic network here. The architecture should be:\n",
    "\n",
    "                Layer 1: Linear, input size 3, output size 128\n",
    "                Activation 1: ReLU\n",
    "                Layer 2: Linear, input size 128, output size 1\n",
    "                Activation 2: Identity (or none)\n",
    "        \"\"\"\n",
    "        self.shared_in = nn.Linear(observation_dim, hidden_dim)\n",
    "        self.relu = nn.ReLU()\n",
    "        self.critic_out = nn.Linear(hidden_dim, 1)\n",
    "\n",
    "        \"\"\" YOUR CODE HERE:\n",
    "                Implement the actor network here. The architecture should be (same as before):\n",
    "\n",
    "                Layer 1: Linear, input size 3, output size 128\n",
    "                Activation 1: ReLU\n",
    "                Layer 2: Linear, input size 128, output size 4\n",
    "                Activation 2: Softmax\n",
    "        \"\"\"\n",
    "        # reuse shared_in, self.relu\n",
    "        self.actor_out = nn.Linear(hidden_dim, action_dim)\n",
    "        self.softmax = nn.Softmax(dim=-1)\n",
    "\n",
    "        # create module groups\n",
    "        self.groups = nn.ModuleDict({\n",
    "            'actor': nn.ModuleList([self.shared_in, self.actor_out]),\n",
    "            'critic': nn.ModuleList([self.shared_in, self.critic_out])\n",
    "        })\n",
    "\n",
    "\n",
    "    def forward(self, x):\n",
    "        \"\"\" YOUR CODE HERE:\n",
    "                Implement the forward propagation for both actor and critic networks\n",
    "        \"\"\"\n",
    "        # shared feature extraction layer\n",
    "        shared_x = self.shared_in(x)\n",
    "        shared_x = self.relu(shared_x)\n",
    "\n",
    "        # Compute state value estimates (critic network)\n",
    "        state_value = self.critic_out(shared_x)\n",
    "\n",
    "        # Compute action probabilities (actor network)\n",
    "        actor_x = self.actor_out(shared_x)\n",
    "        action_probs = self.softmax(actor_x)\n",
    "\n",
    "        return state_value, action_probs"
   ]
  },
  {
   "cell_type": "code",
   "execution_count": 8,
   "metadata": {},
   "outputs": [],
   "source": [
    "import pdb"
   ]
  },
  {
   "cell_type": "markdown",
   "metadata": {},
   "source": [
    "### PPO Agent"
   ]
  },
  {
   "cell_type": "code",
   "execution_count": 41,
   "metadata": {},
   "outputs": [],
   "source": [
    "# PPO agent - use joint or separate actor critic networks\n",
    "class PPOAgent(object):\n",
    "    def __init__(self, observation_dim=3, hidden_dim=128, n_hidden=1, action_dim=4, shared_backbone=False):\n",
    "        # Create the actor and critic networks\n",
    "        if shared_backbone:\n",
    "            self.policy_net = SharedActorCriticNet(observation_dim, hidden_dim, n_hidden, action_dim)\n",
    "        else:\n",
    "            self.policy_net = ActorCriticNet(observation_dim, hidden_dim, n_hidden, action_dim)\n",
    "\n",
    "    def get_action(self, state):\n",
    "        # Sample an action from the actor network, return the action and its log probability,\n",
    "        # and return the state value according to the critic network\n",
    "        state_tensor = torch.tensor(state).float().view(1, -1)\n",
    "        state_value, action_probs = self.policy_net(state_tensor)\n",
    "        m = Categorical(action_probs)\n",
    "        action = m.sample()\n",
    "        log_prob = m.log_prob(action)\n",
    "        return action.item(), log_prob, state_value\n",
    "\n",
    "    def evaluate(self, state, action):\n",
    "        \"\"\"\n",
    "        Returns state value estimate and entropy of action distribution at a given state or batch of states\n",
    "        and log probability of given actions\n",
    "        \"\"\"\n",
    "        # state_tensor = torch.tensor(state).float().view(1, -1)\n",
    "        state_value, action_probs = self.policy_net(state)\n",
    "        m = Categorical(action_probs)\n",
    "\n",
    "        return state_value, m.entropy(), m.log_prob(action)\n",
    "\n",
    "    def save_model(self, path):\n",
    "        torch.save(self.policy_net.state_dict(), path)\n",
    "\n",
    "    def load_model(self, path):\n",
    "        self.policy_net.load_state_dict(torch.load(path))\n",
    "\n",
    "    def get_current_log_probs(self, state, action):\n",
    "        # state_tensor = torch.tensor(state).float().view(1, -1)\n",
    "\n",
    "        # _, old_action_probs = self.target_net(state_tensor)\n",
    "        _, current_action_probs = self.policy_net(state)\n",
    "        if LOG_LEVEL == 'debug':\n",
    "            print(f\"get_action_probability: {current_action_probs.shape=} {action.shape=}\")\n",
    "        # pdb.set_trace()\n",
    "        m = Categorical(current_action_probs)\n",
    "        return m.log_prob(action)\n"
   ]
  },
  {
   "cell_type": "markdown",
   "metadata": {},
   "source": [
    "### Replay Buffer"
   ]
  },
  {
   "cell_type": "code",
   "execution_count": null,
   "metadata": {},
   "outputs": [],
   "source": [
    "Batch = namedtuple(\n",
    "    'Batch', ('states', 'actions', 'rewards', 'next_states', 'dones', 'log_probs', 'state_values', 'returns')\n",
    ")\n",
    "\n",
    "\n",
    "class ReplayMemory:\n",
    "    def __init__(self, max_size, state_dim):\n",
    "        \"\"\"Replay memory implemented as a circular buffer.\n",
    "\n",
    "        Experiences will be removed in a FIFO manner after reaching maximum\n",
    "        buffer size.\n",
    "\n",
    "        Args:\n",
    "            - max_size: Maximum size of the buffer\n",
    "            - state_size: Size of the state-space features for the environment\n",
    "        \"\"\"\n",
    "        self.max_size = max_size\n",
    "        self.state_dim = state_dim\n",
    "\n",
    "        # Preallocating all the required memory, for speed concerns\n",
    "        self.states = torch.empty((max_size, state_dim))\n",
    "        self.actions = torch.empty((max_size, 1), dtype=torch.long)\n",
    "        self.rewards = torch.empty((max_size, 1))\n",
    "        self.next_states = torch.empty((max_size, state_dim))\n",
    "        self.dones = torch.empty((max_size, 1), dtype=torch.bool)\n",
    "        # self.boostrap_returns = torch.empty((max_size, 1))\n",
    "        self.log_probs = torch.empty((max_size, 1))\n",
    "        self.state_values = torch.empty((max_size, 1))\n",
    "\n",
    "        # to store rewards-to-go, computed later\n",
    "        self.returns = torch.empty((max_size, 1))\n",
    "        self.returns_computed = False\n",
    "\n",
    "        # Pointer to the current location in the circular buffer\n",
    "        self.idx = 0\n",
    "        # Indicates number of transitions currently stored in the buffer\n",
    "        self.size = 0\n",
    "\n",
    "    def add(self, state, action, reward, next_state, done, log_prob, state_value):\n",
    "        \"\"\"Add a transition to the buffer.\n",
    "\n",
    "        :param state: 1-D np.ndarray of state-features\n",
    "        :param action: Integer action\n",
    "        :param reward: Float reward\n",
    "        :param next_state: 1-D np.ndarray of state-features\n",
    "        :param done: Boolean value indicating the end of an episode\n",
    "        :param bootstrap_return: reward + critic(s')\n",
    "        :param log_prob log of probability for selected action\n",
    "        :param state_value s\n",
    "        \"\"\"\n",
    "\n",
    "        if self.size == self.max_size:\n",
    "            return\n",
    "\n",
    "        # YOUR CODE HERE: Store the input values into the appropriate\n",
    "        # attributes, using the current buffer position `self.idx`\n",
    "\n",
    "        self.states[self.idx] = torch.tensor(state)\n",
    "        self.actions[self.idx] = action\n",
    "        self.rewards[self.idx] = reward\n",
    "        self.next_states[self.idx] = torch.tensor(next_state)\n",
    "        self.dones[self.idx] = done\n",
    "\n",
    "        # self.boostrap_returns[self.idx] = bootstrap_return\n",
    "        self.log_probs[self.idx] = log_prob\n",
    "        self.state_values[self.idx] = state_value\n",
    "\n",
    "        # DO NOT EDIT\n",
    "        # Circulate the pointer to the next position\n",
    "        self.idx = (self.idx + 1) % self.max_size\n",
    "        # Update the current buffer size\n",
    "        self.size = min(self.size + 1, self.max_size)\n",
    "\n",
    "    def compute_returns(self, gamma):\n",
    "        G = 0\n",
    "        returns = deque()\n",
    "        ep_returns = deque()\n",
    "\n",
    "        for i in range(self.size - 1, -1, -1):\n",
    "            reward = self.rewards[i]\n",
    "            done = self.dones[i]\n",
    "\n",
    "            if done:\n",
    "                # end of episode, reset discounted return calculation\n",
    "                ep_returns.appendleft(G)\n",
    "                G = 0\n",
    "\n",
    "            # always detach returns, never take gradient w.r.t return\n",
    "            G = gamma * G + reward.detach().item()\n",
    "            self.returns[i] = G\n",
    "\n",
    "        self.returns_computed = True\n",
    "\n",
    "        return G, ep_returns\n",
    "\n",
    "    def get_all(self):\n",
    "        if not self.returns_computed:\n",
    "            raise Exception('Returns not yet computed! Please call buffer.compute_returns() before sampling.')\n",
    "\n",
    "        return Batch(\n",
    "            self.states[:self.size],\n",
    "            self.actions[:self.size],\n",
    "            self.rewards[:self.size],\n",
    "            self.next_states[:self.size],\n",
    "            self.dones[:self.size],\n",
    "            self.log_probs[:self.size],\n",
    "            self.state_values[:self.size],\n",
    "            self.returns[:self.size]\n",
    "        )\n",
    "\n",
    "\n",
    "    def batches(self, batch_size):\n",
    "        \"\"\"Iterate through random batches of sampled transitions.\n",
    "\n",
    "        :param batch_size: Number of transitions to sample in each batch\n",
    "        :rtype: Batch\n",
    "        \"\"\"\n",
    "\n",
    "        if not self.returns_computed:\n",
    "            raise Exception('Returns not yet computed! Please call buffer.compute_returns() before sampling.')\n",
    "\n",
    "        shuf_indices = torch.randperm(self.size, dtype=torch.long)\n",
    "\n",
    "        for start_idx in range(0, self.size, batch_size):\n",
    "            end_idx = start_idx + batch_size\n",
    "\n",
    "            if end_idx > self.size:\n",
    "                end_idx = self.size\n",
    "\n",
    "            sample_indices = shuf_indices[start_idx:end_idx]\n",
    "\n",
    "            batch = Batch(\n",
    "                self.states[sample_indices],\n",
    "                self.actions[sample_indices],\n",
    "                self.rewards[sample_indices],\n",
    "                self.next_states[sample_indices],\n",
    "                self.dones[sample_indices],\n",
    "                self.log_probs[sample_indices],\n",
    "                self.state_values[sample_indices],\n",
    "                self.returns[sample_indices]\n",
    "            )\n",
    "\n",
    "            yield batch\n",
    "\n",
    "    def clear(self):\n",
    "        self.idx = 0\n",
    "        self.size = 0\n",
    "        self.returns_computed = False"
   ]
  },
  {
   "cell_type": "markdown",
   "metadata": {},
   "source": [
    "### Training Loop"
   ]
  },
  {
   "cell_type": "code",
   "execution_count": 28,
   "metadata": {},
   "outputs": [],
   "source": [
    "def compute_grad_magnitudes(model):\n",
    "    \"\"\"Compute the total gradient magnitude for a model's gradients.\"\"\"\n",
    "    total_grad = 0.0\n",
    "    for param in model.parameters():\n",
    "        if param.grad is not None:\n",
    "            total_grad += torch.norm(param.grad).item()\n",
    "    return total_grad"
   ]
  },
  {
   "cell_type": "code",
   "execution_count": 29,
   "metadata": {},
   "outputs": [],
   "source": [
    "def update_parent_info(parent_info, child_info):\n",
    "    for key, val in child_info.items():\n",
    "            parent_info.setdefault(key, [])\n",
    "            parent_info[key].append(val)"
   ]
  },
  {
   "cell_type": "code",
   "execution_count": null,
   "metadata": {},
   "outputs": [],
   "source": [
    "# PPO Trainer\n",
    "class PPOAgentTrainer(object):\n",
    "    def __init__(self, agent: PPOAgent, env: FourRooms | gym.Env, params):\n",
    "        # Agent object\n",
    "        self.agent = agent\n",
    "\n",
    "        # Environment object\n",
    "        self.env = env\n",
    "\n",
    "        # Training parameters\n",
    "        self.params = params\n",
    "\n",
    "        # Lists to store the log probabilities, state values, and rewards for one episode\n",
    "        self.saved_log_probs = []\n",
    "        self.saved_state_values = []\n",
    "        self.saved_rewards = []\n",
    "        self.saved_bootstrap_returns = []\n",
    "        self.replay_buffer = ReplayMemory(max_size=params['buffer_size'], state_dim=params.get('state_size', 3))\n",
    "\n",
    "        # Gamma\n",
    "        self.gamma = params['gamma']\n",
    "\n",
    "        # epsilon for PPO-Clip\n",
    "        self.epsilon = params['epsilon']\n",
    "\n",
    "        self.k_epochs = params['epochs_per_update']\n",
    "\n",
    "        self.entropy_coef = params['entropy_coef']\n",
    "\n",
    "\n",
    "        # Create the optimizer\n",
    "        \"\"\" YOUR CODE HERE:\n",
    "                Implement the Adam optimizer with the learning rate in params\n",
    "        \"\"\"\n",
    "        self.optimizer_critic = torch.optim.Adam(agent.policy_net.groups.critic.parameters(), lr=params['critic_learning_rate'])\n",
    "        self.optimizer_actor = torch.optim.Adam(agent.policy_net.groups.actor.parameters(), lr=params['actor_learning_rate'])\n",
    "\n",
    "    # @staticmethod\n",
    "    def compute_state_feature(self, state):\n",
    "        if isinstance(self.env, FourRooms):\n",
    "            return [state[0] / 10, state[1] / 10, 1]\n",
    "\n",
    "        return state\n",
    "\n",
    "    def step_ppo_update(self, dataset: Batch):\n",
    "        # Detach gradients for all collected data - don't compute gradients w.r.t them\n",
    "        states = dataset.states.detach()\n",
    "        actions = dataset.actions.detach()\n",
    "        returns = dataset.returns.detach()\n",
    "        state_values = dataset.state_values.detach()\n",
    "        old_log_probs = dataset.log_probs.detach()\n",
    "\n",
    "        advantage = (returns - state_values)\n",
    "\n",
    "        # Normalize advantage\n",
    "        advantage = (advantage - advantage.mean()) / (advantage.std() + 1e-10) # add constant to prevent div by 0\n",
    "\n",
    "        entropy_bonus, current_log_probs, latest_state_values = self.agent.evaluate(states, actions)\n",
    "        # Compute the policy and value loss for each time step\n",
    "        # (joint optimization)\n",
    "\n",
    "\n",
    "        # Probability ratio of selecting action at s, use log_prob for pi_theta_old\n",
    "\n",
    "        # We take the actor gradient w.r.t current_log_probs\n",
    "        ratio_t = torch.exp(current_log_probs - old_log_probs) # equivalent to e^current_log_probs / e^old_log_probs\n",
    "\n",
    "        if LOG_LEVEL == 'debug':\n",
    "            print(f\"{current_log_probs.shape=} {old_log_probs.shape=} {ratio_t.shape=}\")\n",
    "\n",
    "        # Unclipped surrogate advantage\n",
    "        unclipped_adv = ratio_t * advantage\n",
    "\n",
    "        # Clipped surrogate advantage\n",
    "        clipped_adv = torch.clamp(ratio_t, min=(1 - self.epsilon), max=(1 + self.epsilon))\n",
    "\n",
    "        # Choose the minimum of the two (in the negative direction, if we choose a bad action, it should be bad)\n",
    "        # unclipped chosen when ratio > 1+epsilon and advantage is negative\n",
    "        # or when ratio < 1 - epsilon and advantage is positive\n",
    "        # negative sign because torch Adam minimizes\n",
    "        policy_loss = -torch.min(unclipped_adv, clipped_adv)\n",
    "\n",
    "        # value loss gradient is w.r.t. through latest_state_values\n",
    "\n",
    "        assert not torch.isnan(old_log_probs).any(), \"Found NaN in log_probs\"\n",
    "        assert not torch.isnan(ratio_t).any(), \"Found NaN in ratio_t\"\n",
    "        assert not torch.isnan(entropy_bonus).any(), \"Found NaN in entropy_bonus\"\n",
    "\n",
    "        # Critic / value function estimate loss based on monte carlo return\n",
    "        value_loss = F.mse_loss(latest_state_values, returns)\n",
    "\n",
    "        # Compute the total loss\n",
    "        policy_loss = policy_loss.mean()  - (self.entropy_coef * entropy_bonus.mean())\n",
    "        value_loss = value_loss.mean()\n",
    "\n",
    "        # pdb.set_trace()\n",
    "\n",
    "        \"\"\" YOUR CODE HERE:\n",
    "                Implement one step of backpropagation (gradient descent)\n",
    "        \"\"\"\n",
    "        # Optimize critic w.r.t value loss\n",
    "        self.optimizer_critic.zero_grad()\n",
    "        value_loss.backward()\n",
    "        critic_grad_mag = compute_grad_magnitudes(self.agent.policy_net.groups.critic)\n",
    "        if LOG_LEVEL == 'debug' or LOG_LEVEL == 'grads':\n",
    "\n",
    "            print(f'Critic gradient magnitudes: {critic_grad_mag}')\n",
    "        self.optimizer_critic.step()\n",
    "\n",
    "        # Optimize actor w.r.t. policy loss\n",
    "        self.optimizer_actor.zero_grad()\n",
    "        policy_loss.backward()\n",
    "\n",
    "        # print gradients\n",
    "        actor_grad_mag = compute_grad_magnitudes(self.agent.policy_net.groups.actor)\n",
    "        if LOG_LEVEL == 'debug' or LOG_LEVEL == 'grads':\n",
    "            print(f'Actor gradient magnitudes: {actor_grad_mag}')\n",
    "        self.optimizer_actor.step()\n",
    "\n",
    "        info = {\n",
    "            'actor_grad_mag': actor_grad_mag,\n",
    "            'critic_grad_mag': critic_grad_mag,\n",
    "            'actor_loss': policy_loss,\n",
    "            'critic_loss': value_loss\n",
    "        }\n",
    "\n",
    "        return policy_loss, value_loss, info\n",
    "\n",
    "    def update_actor_critic_networks(self):\n",
    "\n",
    "        # List to store the policy loss for each time step\n",
    "        # policy_loss = []\n",
    "\n",
    "        # List to store the value loss for each time step\n",
    "        # value_loss = []\n",
    "\n",
    "        # entropy_bonus = 0\n",
    "\n",
    "        # Compute discounted returns at each time step (rewards-to-go)\n",
    "        G, ep_returns = self.replay_buffer.compute_returns(self.gamma)\n",
    "\n",
    "        use_batches = 'batch_size' in self.params\n",
    "\n",
    "        if not use_batches:\n",
    "            dataset = self.replay_buffer.get_all()\n",
    "\n",
    "        # print(\"dataset length:\", len(dataset.states))\n",
    "\n",
    "        if LOG_LEVEL == 'debug':\n",
    "            print(\"Updating networks, returns: \", dataset.returns)\n",
    "\n",
    "        for epoch in range(self.k_epochs):\n",
    "            if use_batches:\n",
    "                for batch in self.replay_buffer.batches(self.params['batch_size']):\n",
    "                    policy_loss, value_loss, info = self.step_ppo_update(batch)\n",
    "            else:\n",
    "                policy_loss, value_loss, info = self.step_ppo_update(dataset)\n",
    "\n",
    "\n",
    "        # After backpropagation, clear the data\n",
    "        self.replay_buffer.clear()\n",
    "        # del self.saved_log_probs[:]\n",
    "        # del self.saved_state_values[:]\n",
    "        # del self.saved_rewards[:]\n",
    "        # del self.saved_bootstrap_returns[:]\n",
    "\n",
    "        info.update({\n",
    "            'episode_returns': ep_returns\n",
    "        })\n",
    "\n",
    "        total_loss = policy_loss + value_loss\n",
    "        return G, total_loss.item(), info\n",
    "\n",
    "    @torch.no_grad()\n",
    "    def run_test(self, num_test_episodes):\n",
    "        episode_count = 0\n",
    "        current_ep_rews = []\n",
    "        ep_returns = []\n",
    "\n",
    "        state, info = self.env.reset()\n",
    "        done = False\n",
    "\n",
    "        while episode_count < num_test_episodes:\n",
    "\n",
    "            # Collect one transition\n",
    "            state_tensor = self.compute_state_feature(state)\n",
    "\n",
    "            action, log_prob, state_value = self.agent.get_action(state_tensor)\n",
    "            next_state, reward, terminated, truncated, info = self.env.step(action)\n",
    "            done = terminated or truncated\n",
    "\n",
    "            current_ep_rews.append(reward)\n",
    "\n",
    "            if not done:\n",
    "                state = next_state\n",
    "            else:\n",
    "                # compute discounted return\n",
    "                G = 0\n",
    "                for r in reversed(current_ep_rews):\n",
    "                    G = self.gamma * G + r\n",
    "\n",
    "                ep_returns.append(G)\n",
    "\n",
    "                # reset environment\n",
    "                state, info = self.env.reset()\n",
    "                done = False\n",
    "                episode_count += 1\n",
    "\n",
    "                del current_ep_rews[:]\n",
    "\n",
    "        return ep_returns\n",
    "\n",
    "    def compute_dense_returns(self):\n",
    "        G = 0\n",
    "        ep_rews = deque()\n",
    "        for done in reversed(self.replay_buffer.dones):\n",
    "            if done:\n",
    "                ep_rews.appendleft(G)\n",
    "                G = 0\n",
    "            else:\n",
    "                G = self.gamma * G - 1 # 'dense' reward fn returns -1 on every timestep except goal\n",
    "\n",
    "        return ep_rews\n",
    "\n",
    "    def run_train(self):\n",
    "        # Lists to store the returns and losses during the training\n",
    "        train_returns = []\n",
    "        train_losses = []\n",
    "        train_info = {\n",
    "            'ep_lengths': [],\n",
    "            'actor_grad_mag': [],\n",
    "            'critic_grad_mag': [],\n",
    "        }\n",
    "\n",
    "        self.replay_buffer.clear()\n",
    "\n",
    "        # Training loop\n",
    "        state, info = self.env.reset()\n",
    "        done = False\n",
    "\n",
    "        G, loss = 0, 0\n",
    "        ep_count = 0\n",
    "        ep_len = 0\n",
    "\n",
    "        t_bar = tqdm.trange(self.params['train_timesteps'])\n",
    "        for t in t_bar:\n",
    "            \"\"\" YOUR CODE HERE:\n",
    "                    Implement the Actor-Critic algorithm here.\n",
    "            \"\"\"\n",
    "            # Collect one transition\n",
    "            state_tensor = self.compute_state_feature(state)\n",
    "\n",
    "            action, log_prob, state_value = self.agent.get_action(state_tensor)\n",
    "            next_state, reward, terminated, truncated, info = self.env.step(action)\n",
    "            done = terminated or truncated\n",
    "\n",
    "            next_state_tensor = self.compute_state_feature(next_state)\n",
    "\n",
    "            if truncated:\n",
    "                _, _, next_state_value = self.agent.get_action(next_state_tensor)\n",
    "                reward += self.gamma * next_state_value.detach()\n",
    "\n",
    "            self.replay_buffer.add(state_tensor, action, reward, next_state_tensor, done, log_prob, state_value)\n",
    "            ep_len += 1\n",
    "\n",
    "            if not done:\n",
    "                state = next_state\n",
    "            else:\n",
    "                # reset environment\n",
    "                ep_count += 1\n",
    "                train_info['ep_lengths'].append(ep_len)\n",
    "                ep_len = 0\n",
    "                state, info = self.env.reset()\n",
    "                done = False\n",
    "\n",
    "            if t % self.params['update_frequency'] == 0 and t >= self.params['warmup_period']: # PPO update every N iterations\n",
    "                # update both network weights\n",
    "                G, loss, update_info = self.update_actor_critic_networks()\n",
    "\n",
    "                # Save the return and loss\n",
    "                if self.params.get('plot_dense_return', False):\n",
    "                    returns_to_plot = self.compute_dense_returns()\n",
    "                    G = returns_to_plot[-1]\n",
    "                else:\n",
    "                    returns_to_plot = update_info['episode_returns']\n",
    "\n",
    "                train_returns.extend(returns_to_plot) # use 'dense' reward fn for plotting\n",
    "                update_parent_info(train_info, update_info)\n",
    "                train_losses.append(loss)\n",
    "\n",
    "\n",
    "            if len(train_returns) > 0:\n",
    "                returns_avg_start = max(0, len(train_returns) - self.params['avg_return_window'])\n",
    "                avg_return = np.mean(train_returns[returns_avg_start:])\n",
    "            else:\n",
    "                avg_return = 0\n",
    "\n",
    "            if t % self.params['log_frequency'] == 0 and t > 0:\n",
    "                print(f\"Timestep: {t} | Episode: {ep_count} | Return: {G} | Moving Avg Return: {avg_return} | Loss: {loss:.2f}\")\n",
    "                if len(train_info['actor_grad_mag']) > 0:\n",
    "                    print(f\"Actor gradient magnitude: {train_info['actor_grad_mag'][-1]}\")\n",
    "\n",
    "                if len(train_info['critic_grad_mag']) > 0:\n",
    "                    print(f\"Critic gradient magnitude: {train_info['critic_grad_mag'][-1]}\")\n",
    "                print(\"----------------------\")\n",
    "\n",
    "            if 'save_filename' in self.params and t % self.params['model_save_frequency'] == 0 and t > 0:\n",
    "                filename = self.params['save_filename']\n",
    "                self.agent.save_model(f'{filename}-t_{t}.pth')\n",
    "\n",
    "            # Add description\n",
    "            t_bar.set_description(f\"Timestep: {t} | Episode: {ep_count} | Return: {G} | Moving Avg Return: {avg_return} | Loss: {loss:.2f}\")\n",
    "\n",
    "        if 'save_filename' in self.params:\n",
    "            filename = self.params['save_filename']\n",
    "            self.agent.save_model(f'{filename}-final.pth')\n",
    "\n",
    "        return train_returns, train_losses, train_info\n",
    "\n",
    "    def run_train_simple(self):\n",
    "        train_returns = []\n",
    "        train_losses = []\n",
    "        train_info = {\n",
    "            'ep_lengths': [],\n",
    "            'actor_grad_mag': [],\n",
    "            'critic_grad_mag': [],\n",
    "        }\n",
    "\n",
    "        self.replay_buffer.clear()\n",
    "\n",
    "        G, loss = 0, 0\n",
    "        # ep_count = 0\n",
    "        ep_len = 0\n",
    "\n",
    "        ep_bar = tqdm.trange(self.params['num_episodes'])\n",
    "        for ep in ep_bar:\n",
    "            \"\"\" YOUR CODE HERE:\n",
    "                    Implement the Actor-Critic algorithm here.\n",
    "            \"\"\"\n",
    "            # Training loop\n",
    "            state, info = self.env.reset()\n",
    "            done = False\n",
    "\n",
    "            while not done:\n",
    "                # Collect one transition\n",
    "                state_tensor = self.compute_state_feature(state)\n",
    "\n",
    "                action, log_prob, state_value = self.agent.get_action(state_tensor)\n",
    "                next_state, reward, terminated, truncated, info = self.env.step(action)\n",
    "                done = terminated or truncated\n",
    "\n",
    "                next_state_tensor = self.compute_state_feature(next_state)\n",
    "\n",
    "                if truncated:\n",
    "                    _, _, next_state_value = self.agent.get_action(next_state_tensor)\n",
    "                    reward += self.gamma * next_state_value.detach()\n",
    "\n",
    "                self.replay_buffer.add(state_tensor, action, reward, next_state_tensor, done, log_prob, state_value)\n",
    "                ep_len += 1\n",
    "\n",
    "                if not done:\n",
    "                    state = next_state\n",
    "\n",
    "            # reset environment\n",
    "            train_info['ep_lengths'].append(ep_len)\n",
    "            ep_len = 0\n",
    "\n",
    "            # PPO update every episode\n",
    "            G, loss, update_info = self.update_actor_critic_networks()\n",
    "\n",
    "            # Save the return and loss\n",
    "            if self.params.get('plot_dense_return', False):\n",
    "                returns_to_plot = self.compute_dense_returns()\n",
    "                G = returns_to_plot[-1]\n",
    "            else:\n",
    "                returns_to_plot = update_info['episode_returns']\n",
    "\n",
    "            # Collect metrics\n",
    "            train_returns.append(G) # use 'dense' reward fn for plotting\n",
    "            update_parent_info(train_info, update_info)\n",
    "            train_losses.append(loss)\n",
    "\n",
    "            # moving average returns\n",
    "            if len(train_returns) > 0:\n",
    "                returns_avg_start = max(0, len(train_returns) - self.params['avg_return_window'])\n",
    "                avg_return = np.mean(train_returns[returns_avg_start:])\n",
    "            else:\n",
    "                avg_return = 0\n",
    "\n",
    "            if ep % self.params['log_frequency'] == 0 and ep > 0:\n",
    "                print(f\"Episode: {ep} | Return: {G} | Moving Avg Return: {avg_return} | Loss: {loss:.2f}\")\n",
    "                if len(train_info['actor_grad_mag']) > 0:\n",
    "                    print(f\"Actor gradient magnitude: {train_info['actor_grad_mag'][-1]}\")\n",
    "\n",
    "                if len(train_info['critic_grad_mag']) > 0:\n",
    "                    print(f\"Critic gradient magnitude: {train_info['critic_grad_mag'][-1]}\")\n",
    "                print(\"----------------------\")\n",
    "\n",
    "            if 'save_filename' in self.params and ep % self.params['model_save_frequency'] == 0 and ep > 0:\n",
    "                filename = self.params['save_filename']\n",
    "                self.agent.save_model(f'{filename}-ep_{ep}.pth')\n",
    "\n",
    "            # Add description\n",
    "            ep_bar.set_description(f\"Episode: {ep} | Return: {G} | Moving Avg Return: {avg_return} | Loss: {loss:.2f}\")\n",
    "\n",
    "        if 'save_filename' in self.params:\n",
    "            filename = self.params['save_filename']\n",
    "            self.agent.save_model(f'{filename}-final.pth')\n",
    "\n",
    "        return train_returns, train_losses, train_info"
   ]
  },
  {
   "cell_type": "markdown",
   "metadata": {},
   "source": [
    "## Train PPO on Four Rooms"
   ]
  },
  {
   "cell_type": "code",
   "execution_count": null,
   "metadata": {},
   "outputs": [
    {
     "name": "stderr",
     "output_type": "stream",
     "text": [
      "  0%|          | 0/500000 [00:00<?, ?it/s]/opt/homebrew/lib/python3.11/site-packages/numpy/core/fromnumeric.py:3432: RuntimeWarning: Mean of empty slice.\n",
      "  return _methods._mean(a, axis=axis, dtype=dtype,\n",
      "/opt/homebrew/lib/python3.11/site-packages/numpy/core/_methods.py:190: RuntimeWarning: invalid value encountered in double_scalars\n",
      "  ret = ret.dtype.type(ret / rcount)\n",
      "Timestep: 50143 | Episode: 109 | Return: -97.12111913610545 | Moving Avg Return: -98.79274608419168 | Loss: 163329.62:  10%|█         | 50082/500000 [01:11<11:35, 647.20it/s]"
     ]
    },
    {
     "name": "stdout",
     "output_type": "stream",
     "text": [
      "Timestep: 50000 | Episode: 108 | Return: -97.12111913610545 | Moving Avg Return: -98.79274608419168 | Loss: 163329.62\n",
      "Actor gradient magnitude: 0.10565730836242437\n",
      "Critic gradient magnitude: 6525.9072265625\n",
      "----------------------\n"
     ]
    },
    {
     "name": "stderr",
     "output_type": "stream",
     "text": [
      "Timestep: 100157 | Episode: 217 | Return: -91.47640754278075 | Moving Avg Return: -97.88457292888229 | Loss: 301315.72:  20%|██        | 100141/500000 [02:15<08:36, 774.76it/s]"
     ]
    },
    {
     "name": "stdout",
     "output_type": "stream",
     "text": [
      "Timestep: 100000 | Episode: 217 | Return: -91.47640754278075 | Moving Avg Return: -97.88457292888229 | Loss: 301315.72\n",
      "Actor gradient magnitude: 0.06731380708515644\n",
      "Critic gradient magnitude: 21644.20721435547\n",
      "----------------------\n"
     ]
    },
    {
     "name": "stderr",
     "output_type": "stream",
     "text": [
      "Timestep: 150168 | Episode: 326 | Return: -74.76393369106533 | Moving Avg Return: -95.1957163132694 | Loss: 243009.47:  30%|███       | 150146/500000 [03:24<07:21, 793.08it/s]  "
     ]
    },
    {
     "name": "stdout",
     "output_type": "stream",
     "text": [
      "Timestep: 150000 | Episode: 326 | Return: -74.76393369106533 | Moving Avg Return: -95.1957163132694 | Loss: 243009.47\n",
      "Actor gradient magnitude: 0.0652520356234163\n",
      "Critic gradient magnitude: 30551.583129882812\n",
      "----------------------\n"
     ]
    },
    {
     "name": "stderr",
     "output_type": "stream",
     "text": [
      "Timestep: 200103 | Episode: 435 | Return: -25.282790566840355 | Moving Avg Return: -87.2347345808131 | Loss: 192053.89:  40%|████      | 200052/500000 [04:33<06:34, 759.44it/s] "
     ]
    },
    {
     "name": "stdout",
     "output_type": "stream",
     "text": [
      "Timestep: 200000 | Episode: 434 | Return: -25.282790566840355 | Moving Avg Return: -87.2347345808131 | Loss: 192053.89\n",
      "Actor gradient magnitude: 0.13105352222919464\n",
      "Critic gradient magnitude: 34429.863037109375\n",
      "----------------------\n"
     ]
    },
    {
     "name": "stderr",
     "output_type": "stream",
     "text": [
      "Timestep: 250158 | Episode: 543 | Return: -97.73812623524985 | Moving Avg Return: -94.36362042881439 | Loss: 240006.45:  50%|█████     | 250066/500000 [05:40<05:56, 701.05it/s] "
     ]
    },
    {
     "name": "stdout",
     "output_type": "stream",
     "text": [
      "Timestep: 250000 | Episode: 543 | Return: -97.73812623524985 | Moving Avg Return: -94.36362042881439 | Loss: 240006.45\n",
      "Actor gradient magnitude: 0.06544222636148334\n",
      "Critic gradient magnitude: 30278.688110351562\n",
      "----------------------\n"
     ]
    },
    {
     "name": "stderr",
     "output_type": "stream",
     "text": [
      "Timestep: 300160 | Episode: 652 | Return: -93.30319972521355 | Moving Avg Return: -98.17848406906816 | Loss: 335759.47:  60%|██████    | 300161/500000 [06:47<04:10, 796.79it/s]"
     ]
    },
    {
     "name": "stdout",
     "output_type": "stream",
     "text": [
      "Timestep: 300000 | Episode: 652 | Return: -93.30319972521355 | Moving Avg Return: -98.17848406906816 | Loss: 335759.47\n",
      "Actor gradient magnitude: 0.1349822198972106\n",
      "Critic gradient magnitude: 32300.786743164062\n",
      "----------------------\n"
     ]
    },
    {
     "name": "stderr",
     "output_type": "stream",
     "text": [
      "Timestep: 350142 | Episode: 761 | Return: -80.17257434110847 | Moving Avg Return: -96.06590820241625 | Loss: 53175.28:  70%|███████   | 350094/500000 [08:03<03:05, 807.99it/s] "
     ]
    },
    {
     "name": "stdout",
     "output_type": "stream",
     "text": [
      "Timestep: 350000 | Episode: 760 | Return: -80.17257434110847 | Moving Avg Return: -96.06590820241625 | Loss: 53175.28\n",
      "Actor gradient magnitude: 0.01539703516755253\n",
      "Critic gradient magnitude: 14876.396057128906\n",
      "----------------------\n"
     ]
    },
    {
     "name": "stderr",
     "output_type": "stream",
     "text": [
      "Timestep: 400176 | Episode: 869 | Return: -41.29632180625153 | Moving Avg Return: -89.81113887585974 | Loss: 97846.03:  80%|████████  | 400143/500000 [09:22<01:54, 870.08it/s]  "
     ]
    },
    {
     "name": "stdout",
     "output_type": "stream",
     "text": [
      "Timestep: 400000 | Episode: 869 | Return: -41.29632180625153 | Moving Avg Return: -89.81113887585974 | Loss: 97846.03\n",
      "Actor gradient magnitude: 0.02824880462139845\n",
      "Critic gradient magnitude: 31008.973602294922\n",
      "----------------------\n"
     ]
    },
    {
     "name": "stderr",
     "output_type": "stream",
     "text": [
      "Timestep: 450143 | Episode: 978 | Return: -98.22289522577046 | Moving Avg Return: -90.08246280360486 | Loss: 64093.30:  90%|█████████ | 450102/500000 [10:31<01:29, 555.81it/s]  "
     ]
    },
    {
     "name": "stdout",
     "output_type": "stream",
     "text": [
      "Timestep: 450000 | Episode: 978 | Return: -98.22289522577046 | Moving Avg Return: -90.08246280360486 | Loss: 64093.30\n",
      "Actor gradient magnitude: 0.07842266047373414\n",
      "Critic gradient magnitude: 15068.263702392578\n",
      "----------------------\n"
     ]
    },
    {
     "name": "stderr",
     "output_type": "stream",
     "text": [
      "Timestep: 499999 | Episode: 1086 | Return: -94.7384704107485 | Moving Avg Return: -98.40940362725195 | Loss: 266022.44: 100%|██████████| 500000/500000 [11:46<00:00, 708.09it/s] \n"
     ]
    },
    {
     "ename": "KeyError",
     "evalue": "0",
     "output_type": "error",
     "traceback": [
      "\u001b[0;31m---------------------------------------------------------------------------\u001b[0m",
      "\u001b[0;31mKeyError\u001b[0m                                  Traceback (most recent call last)",
      "Cell \u001b[0;32mIn[13], line 34\u001b[0m\n\u001b[1;32m     32\u001b[0m ppo_returns\u001b[38;5;241m.\u001b[39mappend(returns)\n\u001b[1;32m     33\u001b[0m ppo_losses\u001b[38;5;241m.\u001b[39mappend(losses)\n\u001b[0;32m---> 34\u001b[0m ppo_actor_grads\u001b[38;5;241m.\u001b[39mappend(\u001b[43mgrad_mags\u001b[49m\u001b[43m[\u001b[49m\u001b[38;5;241;43m0\u001b[39;49m\u001b[43m]\u001b[49m)\n\u001b[1;32m     35\u001b[0m ppo_critic_grads\u001b[38;5;241m.\u001b[39mappend(grad_mags[\u001b[38;5;241m1\u001b[39m])\n",
      "\u001b[0;31mKeyError\u001b[0m: 0"
     ]
    }
   ],
   "source": [
    "if __name__ == \"__main__\":\n",
    "\n",
    "    my_env = FourRooms(reward_fn='manhattan') # 'dense', 'manhattan', or 'sparse'\n",
    "\n",
    "    train_params = {\n",
    "        'num_episodes': 1000,\n",
    "        'num_trials': 1,\n",
    "        'actor_learning_rate': 3e-4,\n",
    "        'critic_learning_rate': 1e-3,\n",
    "        'gamma': 0.99,\n",
    "        'train_timesteps': 500_000, # my_env.max_time_steps * 1000, # 500_000,\n",
    "        'entropy_coef': 0.01,\n",
    "        'buffer_size': my_env.max_time_steps * 4,\n",
    "        'update_frequency': my_env.max_time_steps * 4,\n",
    "        'warmup_period': my_env.max_time_steps,\n",
    "        'epsilon': 0.2,\n",
    "        'epochs_per_update': 5,\n",
    "        'avg_return_window': 100,\n",
    "        'log_frequency': 50_000,\n",
    "        'plot_dense_return': True\n",
    "    }\n",
    "\n",
    "    ppo_returns = []\n",
    "    ppo_losses = []\n",
    "    ppo_info = {}\n",
    "    for _ in range(train_params['num_trials']):\n",
    "        my_agent = PPOAgent() # agent is the same\n",
    "        my_trainer = PPOAgentTrainer(my_agent, my_env, train_params)\n",
    "        returns, losses, info = my_trainer.run_train()\n",
    "\n",
    "        ppo_returns.append(returns)\n",
    "        ppo_losses.append(losses)\n",
    "        update_parent_info(ppo_info, info)"
   ]
  },
  {
   "cell_type": "code",
   "execution_count": 14,
   "metadata": {},
   "outputs": [
    {
     "data": {
      "text/plain": [
       "(1, 1085, float)"
      ]
     },
     "execution_count": 14,
     "metadata": {},
     "output_type": "execute_result"
    }
   ],
   "source": [
    "len(ppo_returns), len(ppo_returns[0]), type(ppo_returns[0][0])"
   ]
  },
  {
   "cell_type": "code",
   "execution_count": 14,
   "metadata": {},
   "outputs": [
    {
     "name": "stdout",
     "output_type": "stream",
     "text": [
      "(averages - arr_err).shape=(1085,)\n"
     ]
    },
    {
     "data": {
      "image/png": "[encoded data removed]",
      "text/plain": [
       "<Figure size 1200x800 with 1 Axes>"
      ]
     },
     "metadata": {},
     "output_type": "display_data"
    },
    {
     "name": "stdout",
     "output_type": "stream",
     "text": [
      "(averages - arr_err).shape=(272,)\n"
     ]
    },
    {
     "data": {
      "image/png": "[encoded data removed]",
      "text/plain": [
       "<Figure size 1200x800 with 1 Axes>"
      ]
     },
     "metadata": {},
     "output_type": "display_data"
    }
   ],
   "source": [
    "plot_curves([np.array(ppo_returns)], ['PPO'], ['r'], 'Return', 'Episode Returns, PPO training', smoothing = True)\n",
    "plot_curves([np.array(ppo_losses)], ['PPO'], ['b'], 'Loss', 'Training Loss, PPO Training', smoothing = True)\n",
    "# plot_curves([np.array(ppo_actor_grads)],\n",
    "#             ['Actor'],\n",
    "#             ['orange'],\n",
    "#             'Gradient magnitude',\n",
    "#             'Actor Gradient Magnitudes, PPO Training',\n",
    "#             smoothing = True)\n",
    "\n",
    "# plot_curves([np.array(ppo_critic_grads)],\n",
    "#             ['Critic'],\n",
    "#             ['purple'],\n",
    "#             'Gradient magnitude',\n",
    "#             'Critic Gradient Magnitudes, PPO Training',\n",
    "#             smoothing = True)"
   ]
  },
  {
   "cell_type": "code",
   "execution_count": null,
   "metadata": {},
   "outputs": [
    {
     "name": "stdout",
     "output_type": "stream",
     "text": [
      "False\n"
     ]
    }
   ],
   "source": []
  },
  {
   "cell_type": "code",
   "execution_count": 37,
   "metadata": {},
   "outputs": [
    {
     "name": "stdout",
     "output_type": "stream",
     "text": [
      "False\n"
     ]
    },
    {
     "ename": "RuntimeError",
     "evalue": "mat1 and mat2 shapes cannot be multiplied (1x2 and 3x128)",
     "output_type": "error",
     "traceback": [
      "\u001b[0;31m---------------------------------------------------------------------------\u001b[0m",
      "\u001b[0;31mRuntimeError\u001b[0m                              Traceback (most recent call last)",
      "Cell \u001b[0;32mIn[37], line 5\u001b[0m\n\u001b[1;32m      3\u001b[0m \u001b[38;5;28mprint\u001b[39m(\u001b[38;5;28misinstance\u001b[39m(my_trainer\u001b[38;5;241m.\u001b[39menv\u001b[38;5;241m.\u001b[39m\u001b[38;5;18m__class__\u001b[39m, FourRooms))\n\u001b[1;32m      4\u001b[0m num_test_episodes \u001b[38;5;241m=\u001b[39m \u001b[38;5;241m100\u001b[39m\n\u001b[0;32m----> 5\u001b[0m test_returns \u001b[38;5;241m=\u001b[39m \u001b[43mmy_trainer\u001b[49m\u001b[38;5;241;43m.\u001b[39;49m\u001b[43mrun_test\u001b[49m\u001b[43m(\u001b[49m\u001b[43mnum_test_episodes\u001b[49m\u001b[43m)\u001b[49m\n",
      "Cell \u001b[0;32mIn[12], line 179\u001b[0m, in \u001b[0;36mPPOAgentTrainer.run_test\u001b[0;34m(self, num_test_episodes)\u001b[0m\n\u001b[1;32m    174\u001b[0m \u001b[38;5;28;01mwhile\u001b[39;00m episode_count \u001b[38;5;241m<\u001b[39m num_test_episodes:\n\u001b[1;32m    175\u001b[0m \n\u001b[1;32m    176\u001b[0m     \u001b[38;5;66;03m# Collect one transition\u001b[39;00m\n\u001b[1;32m    177\u001b[0m     state_tensor \u001b[38;5;241m=\u001b[39m \u001b[38;5;28mself\u001b[39m\u001b[38;5;241m.\u001b[39mcompute_state_feature(state)\n\u001b[0;32m--> 179\u001b[0m     action, log_prob, state_value \u001b[38;5;241m=\u001b[39m \u001b[38;5;28;43mself\u001b[39;49m\u001b[38;5;241;43m.\u001b[39;49m\u001b[43magent\u001b[49m\u001b[38;5;241;43m.\u001b[39;49m\u001b[43mget_action\u001b[49m\u001b[43m(\u001b[49m\u001b[43mstate_tensor\u001b[49m\u001b[43m)\u001b[49m\n\u001b[1;32m    180\u001b[0m     next_state, reward, terminated, truncated, info \u001b[38;5;241m=\u001b[39m \u001b[38;5;28mself\u001b[39m\u001b[38;5;241m.\u001b[39menv\u001b[38;5;241m.\u001b[39mstep(action)\n\u001b[1;32m    181\u001b[0m     done \u001b[38;5;241m=\u001b[39m terminated \u001b[38;5;129;01mor\u001b[39;00m truncated\n",
      "Cell \u001b[0;32mIn[24], line 14\u001b[0m, in \u001b[0;36mPPOAgent.get_action\u001b[0;34m(self, state)\u001b[0m\n\u001b[1;32m     10\u001b[0m \u001b[38;5;28;01mdef\u001b[39;00m \u001b[38;5;21mget_action\u001b[39m(\u001b[38;5;28mself\u001b[39m, state):\n\u001b[1;32m     11\u001b[0m     \u001b[38;5;66;03m# Sample an action from the actor network, return the action and its log probability,\u001b[39;00m\n\u001b[1;32m     12\u001b[0m     \u001b[38;5;66;03m# and return the state value according to the critic network\u001b[39;00m\n\u001b[1;32m     13\u001b[0m     state_tensor \u001b[38;5;241m=\u001b[39m torch\u001b[38;5;241m.\u001b[39mtensor(state)\u001b[38;5;241m.\u001b[39mfloat()\u001b[38;5;241m.\u001b[39mview(\u001b[38;5;241m1\u001b[39m, \u001b[38;5;241m-\u001b[39m\u001b[38;5;241m1\u001b[39m)\n\u001b[0;32m---> 14\u001b[0m     state_value, action_probs \u001b[38;5;241m=\u001b[39m \u001b[38;5;28;43mself\u001b[39;49m\u001b[38;5;241;43m.\u001b[39;49m\u001b[43mpolicy_net\u001b[49m\u001b[43m(\u001b[49m\u001b[43mstate_tensor\u001b[49m\u001b[43m)\u001b[49m\n\u001b[1;32m     15\u001b[0m     m \u001b[38;5;241m=\u001b[39m Categorical(action_probs)\n\u001b[1;32m     16\u001b[0m     action \u001b[38;5;241m=\u001b[39m m\u001b[38;5;241m.\u001b[39msample()\n",
      "File \u001b[0;32m/opt/homebrew/lib/python3.11/site-packages/torch/nn/modules/module.py:1736\u001b[0m, in \u001b[0;36mModule._wrapped_call_impl\u001b[0;34m(self, *args, **kwargs)\u001b[0m\n\u001b[1;32m   1734\u001b[0m     \u001b[38;5;28;01mreturn\u001b[39;00m \u001b[38;5;28mself\u001b[39m\u001b[38;5;241m.\u001b[39m_compiled_call_impl(\u001b[38;5;241m*\u001b[39margs, \u001b[38;5;241m*\u001b[39m\u001b[38;5;241m*\u001b[39mkwargs)  \u001b[38;5;66;03m# type: ignore[misc]\u001b[39;00m\n\u001b[1;32m   1735\u001b[0m \u001b[38;5;28;01melse\u001b[39;00m:\n\u001b[0;32m-> 1736\u001b[0m     \u001b[38;5;28;01mreturn\u001b[39;00m \u001b[38;5;28;43mself\u001b[39;49m\u001b[38;5;241;43m.\u001b[39;49m\u001b[43m_call_impl\u001b[49m\u001b[43m(\u001b[49m\u001b[38;5;241;43m*\u001b[39;49m\u001b[43margs\u001b[49m\u001b[43m,\u001b[49m\u001b[43m \u001b[49m\u001b[38;5;241;43m*\u001b[39;49m\u001b[38;5;241;43m*\u001b[39;49m\u001b[43mkwargs\u001b[49m\u001b[43m)\u001b[49m\n",
      "File \u001b[0;32m/opt/homebrew/lib/python3.11/site-packages/torch/nn/modules/module.py:1747\u001b[0m, in \u001b[0;36mModule._call_impl\u001b[0;34m(self, *args, **kwargs)\u001b[0m\n\u001b[1;32m   1742\u001b[0m \u001b[38;5;66;03m# If we don't have any hooks, we want to skip the rest of the logic in\u001b[39;00m\n\u001b[1;32m   1743\u001b[0m \u001b[38;5;66;03m# this function, and just call forward.\u001b[39;00m\n\u001b[1;32m   1744\u001b[0m \u001b[38;5;28;01mif\u001b[39;00m \u001b[38;5;129;01mnot\u001b[39;00m (\u001b[38;5;28mself\u001b[39m\u001b[38;5;241m.\u001b[39m_backward_hooks \u001b[38;5;129;01mor\u001b[39;00m \u001b[38;5;28mself\u001b[39m\u001b[38;5;241m.\u001b[39m_backward_pre_hooks \u001b[38;5;129;01mor\u001b[39;00m \u001b[38;5;28mself\u001b[39m\u001b[38;5;241m.\u001b[39m_forward_hooks \u001b[38;5;129;01mor\u001b[39;00m \u001b[38;5;28mself\u001b[39m\u001b[38;5;241m.\u001b[39m_forward_pre_hooks\n\u001b[1;32m   1745\u001b[0m         \u001b[38;5;129;01mor\u001b[39;00m _global_backward_pre_hooks \u001b[38;5;129;01mor\u001b[39;00m _global_backward_hooks\n\u001b[1;32m   1746\u001b[0m         \u001b[38;5;129;01mor\u001b[39;00m _global_forward_hooks \u001b[38;5;129;01mor\u001b[39;00m _global_forward_pre_hooks):\n\u001b[0;32m-> 1747\u001b[0m     \u001b[38;5;28;01mreturn\u001b[39;00m \u001b[43mforward_call\u001b[49m\u001b[43m(\u001b[49m\u001b[38;5;241;43m*\u001b[39;49m\u001b[43margs\u001b[49m\u001b[43m,\u001b[49m\u001b[43m \u001b[49m\u001b[38;5;241;43m*\u001b[39;49m\u001b[38;5;241;43m*\u001b[39;49m\u001b[43mkwargs\u001b[49m\u001b[43m)\u001b[49m\n\u001b[1;32m   1749\u001b[0m result \u001b[38;5;241m=\u001b[39m \u001b[38;5;28;01mNone\u001b[39;00m\n\u001b[1;32m   1750\u001b[0m called_always_called_hooks \u001b[38;5;241m=\u001b[39m \u001b[38;5;28mset\u001b[39m()\n",
      "Cell \u001b[0;32mIn[20], line 43\u001b[0m, in \u001b[0;36mActorCriticNet.forward\u001b[0;34m(self, x)\u001b[0m\n\u001b[1;32m     38\u001b[0m \u001b[38;5;28;01mdef\u001b[39;00m \u001b[38;5;21mforward\u001b[39m(\u001b[38;5;28mself\u001b[39m, x):\n\u001b[1;32m     39\u001b[0m \u001b[38;5;250m    \u001b[39m\u001b[38;5;124;03m\"\"\" YOUR CODE HERE:\u001b[39;00m\n\u001b[1;32m     40\u001b[0m \u001b[38;5;124;03m            Implement the forward propagation for both actor and critic networks\u001b[39;00m\n\u001b[1;32m     41\u001b[0m \u001b[38;5;124;03m    \"\"\"\u001b[39;00m\n\u001b[0;32m---> 43\u001b[0m     critic_x \u001b[38;5;241m=\u001b[39m \u001b[38;5;28;43mself\u001b[39;49m\u001b[38;5;241;43m.\u001b[39;49m\u001b[43mcritic_in\u001b[49m\u001b[43m(\u001b[49m\u001b[43mx\u001b[49m\u001b[43m)\u001b[49m\n\u001b[1;32m     44\u001b[0m     critic_x \u001b[38;5;241m=\u001b[39m \u001b[38;5;28mself\u001b[39m\u001b[38;5;241m.\u001b[39mrelu(critic_x)\n\u001b[1;32m     45\u001b[0m     state_value \u001b[38;5;241m=\u001b[39m \u001b[38;5;28mself\u001b[39m\u001b[38;5;241m.\u001b[39mcritic_out(critic_x)\n",
      "File \u001b[0;32m/opt/homebrew/lib/python3.11/site-packages/torch/nn/modules/module.py:1736\u001b[0m, in \u001b[0;36mModule._wrapped_call_impl\u001b[0;34m(self, *args, **kwargs)\u001b[0m\n\u001b[1;32m   1734\u001b[0m     \u001b[38;5;28;01mreturn\u001b[39;00m \u001b[38;5;28mself\u001b[39m\u001b[38;5;241m.\u001b[39m_compiled_call_impl(\u001b[38;5;241m*\u001b[39margs, \u001b[38;5;241m*\u001b[39m\u001b[38;5;241m*\u001b[39mkwargs)  \u001b[38;5;66;03m# type: ignore[misc]\u001b[39;00m\n\u001b[1;32m   1735\u001b[0m \u001b[38;5;28;01melse\u001b[39;00m:\n\u001b[0;32m-> 1736\u001b[0m     \u001b[38;5;28;01mreturn\u001b[39;00m \u001b[38;5;28;43mself\u001b[39;49m\u001b[38;5;241;43m.\u001b[39;49m\u001b[43m_call_impl\u001b[49m\u001b[43m(\u001b[49m\u001b[38;5;241;43m*\u001b[39;49m\u001b[43margs\u001b[49m\u001b[43m,\u001b[49m\u001b[43m \u001b[49m\u001b[38;5;241;43m*\u001b[39;49m\u001b[38;5;241;43m*\u001b[39;49m\u001b[43mkwargs\u001b[49m\u001b[43m)\u001b[49m\n",
      "File \u001b[0;32m/opt/homebrew/lib/python3.11/site-packages/torch/nn/modules/module.py:1747\u001b[0m, in \u001b[0;36mModule._call_impl\u001b[0;34m(self, *args, **kwargs)\u001b[0m\n\u001b[1;32m   1742\u001b[0m \u001b[38;5;66;03m# If we don't have any hooks, we want to skip the rest of the logic in\u001b[39;00m\n\u001b[1;32m   1743\u001b[0m \u001b[38;5;66;03m# this function, and just call forward.\u001b[39;00m\n\u001b[1;32m   1744\u001b[0m \u001b[38;5;28;01mif\u001b[39;00m \u001b[38;5;129;01mnot\u001b[39;00m (\u001b[38;5;28mself\u001b[39m\u001b[38;5;241m.\u001b[39m_backward_hooks \u001b[38;5;129;01mor\u001b[39;00m \u001b[38;5;28mself\u001b[39m\u001b[38;5;241m.\u001b[39m_backward_pre_hooks \u001b[38;5;129;01mor\u001b[39;00m \u001b[38;5;28mself\u001b[39m\u001b[38;5;241m.\u001b[39m_forward_hooks \u001b[38;5;129;01mor\u001b[39;00m \u001b[38;5;28mself\u001b[39m\u001b[38;5;241m.\u001b[39m_forward_pre_hooks\n\u001b[1;32m   1745\u001b[0m         \u001b[38;5;129;01mor\u001b[39;00m _global_backward_pre_hooks \u001b[38;5;129;01mor\u001b[39;00m _global_backward_hooks\n\u001b[1;32m   1746\u001b[0m         \u001b[38;5;129;01mor\u001b[39;00m _global_forward_hooks \u001b[38;5;129;01mor\u001b[39;00m _global_forward_pre_hooks):\n\u001b[0;32m-> 1747\u001b[0m     \u001b[38;5;28;01mreturn\u001b[39;00m \u001b[43mforward_call\u001b[49m\u001b[43m(\u001b[49m\u001b[38;5;241;43m*\u001b[39;49m\u001b[43margs\u001b[49m\u001b[43m,\u001b[49m\u001b[43m \u001b[49m\u001b[38;5;241;43m*\u001b[39;49m\u001b[38;5;241;43m*\u001b[39;49m\u001b[43mkwargs\u001b[49m\u001b[43m)\u001b[49m\n\u001b[1;32m   1749\u001b[0m result \u001b[38;5;241m=\u001b[39m \u001b[38;5;28;01mNone\u001b[39;00m\n\u001b[1;32m   1750\u001b[0m called_always_called_hooks \u001b[38;5;241m=\u001b[39m \u001b[38;5;28mset\u001b[39m()\n",
      "File \u001b[0;32m/opt/homebrew/lib/python3.11/site-packages/torch/nn/modules/linear.py:125\u001b[0m, in \u001b[0;36mLinear.forward\u001b[0;34m(self, input)\u001b[0m\n\u001b[1;32m    124\u001b[0m \u001b[38;5;28;01mdef\u001b[39;00m \u001b[38;5;21mforward\u001b[39m(\u001b[38;5;28mself\u001b[39m, \u001b[38;5;28minput\u001b[39m: Tensor) \u001b[38;5;241m-\u001b[39m\u001b[38;5;241m>\u001b[39m Tensor:\n\u001b[0;32m--> 125\u001b[0m     \u001b[38;5;28;01mreturn\u001b[39;00m \u001b[43mF\u001b[49m\u001b[38;5;241;43m.\u001b[39;49m\u001b[43mlinear\u001b[49m\u001b[43m(\u001b[49m\u001b[38;5;28;43minput\u001b[39;49m\u001b[43m,\u001b[49m\u001b[43m \u001b[49m\u001b[38;5;28;43mself\u001b[39;49m\u001b[38;5;241;43m.\u001b[39;49m\u001b[43mweight\u001b[49m\u001b[43m,\u001b[49m\u001b[43m \u001b[49m\u001b[38;5;28;43mself\u001b[39;49m\u001b[38;5;241;43m.\u001b[39;49m\u001b[43mbias\u001b[49m\u001b[43m)\u001b[49m\n",
      "\u001b[0;31mRuntimeError\u001b[0m: mat1 and mat2 shapes cannot be multiplied (1x2 and 3x128)"
     ]
    }
   ],
   "source": [
    "# Evaluate policy\n",
    "if __name__ == '__main__':\n",
    "    print(isinstance(my_trainer.env.__class__, FourRooms))\n",
    "    num_test_episodes = 100\n",
    "    test_returns = my_trainer.run_test(num_test_episodes)"
   ]
  },
  {
   "cell_type": "code",
   "execution_count": 18,
   "metadata": {},
   "outputs": [
    {
     "name": "stdout",
     "output_type": "stream",
     "text": [
      "(averages - arr_err).shape=(100,)\n"
     ]
    },
    {
     "data": {
      "image/png": "[encoded data removed]",
      "text/plain": [
       "<Figure size 1200x800 with 1 Axes>"
      ]
     },
     "metadata": {},
     "output_type": "display_data"
    }
   ],
   "source": [
    "plot_curves([np.array([test_returns])], ['PPO'], ['g'], ylabel='Discounted returns', fig_title='Test-time episode returns', smoothing=False)"
   ]
  },
  {
   "cell_type": "markdown",
   "metadata": {},
   "source": [
    "## Train PPO on Lunar Lander"
   ]
  },
  {
   "cell_type": "code",
   "execution_count": 45,
   "metadata": {},
   "outputs": [
    {
     "name": "stdout",
     "output_type": "stream",
     "text": [
      "ActorCriticNet(\n",
      "  (critic_in): Linear(in_features=8, out_features=128, bias=True)\n",
      "  (critic_hidden): ModuleList(\n",
      "    (0): Linear(in_features=128, out_features=128, bias=True)\n",
      "  )\n",
      "  (relu): ReLU()\n",
      "  (critic_out): Linear(in_features=128, out_features=1, bias=True)\n",
      "  (actor_in): Linear(in_features=8, out_features=128, bias=True)\n",
      "  (actor_hidden): ModuleList(\n",
      "    (0): Linear(in_features=128, out_features=128, bias=True)\n",
      "  )\n",
      "  (actor_out): Linear(in_features=128, out_features=4, bias=True)\n",
      "  (softmax): Softmax(dim=-1)\n",
      "  (groups): ModuleDict(\n",
      "    (actor): ModuleList(\n",
      "      (0): Linear(in_features=8, out_features=128, bias=True)\n",
      "      (1): ModuleList(\n",
      "        (0): Linear(in_features=128, out_features=128, bias=True)\n",
      "      )\n",
      "      (2): Linear(in_features=128, out_features=4, bias=True)\n",
      "    )\n",
      "    (critic): ModuleList(\n",
      "      (0): Linear(in_features=8, out_features=128, bias=True)\n",
      "      (1): ModuleList(\n",
      "        (0): Linear(in_features=128, out_features=128, bias=True)\n",
      "      )\n",
      "      (2): Linear(in_features=128, out_features=1, bias=True)\n",
      "    )\n",
      "  )\n",
      ")\n"
     ]
    },
    {
     "name": "stderr",
     "output_type": "stream",
     "text": [
      "Episode: 107 | Return: -79.38869599471491 | Moving Avg Return: -80.06507382884125 | Loss: 234.70:  10%|█         | 105/1000 [00:04<00:24, 36.37it/s]  "
     ]
    },
    {
     "name": "stdout",
     "output_type": "stream",
     "text": [
      "Episode: 100 | Return: -105.76438760277438 | Moving Avg Return: -81.73239073403168 | Loss: 5162.49\n",
      "Actor gradient magnitude: 0.012636962463147938\n",
      "Critic gradient magnitude: 15764.375228881836\n",
      "----------------------\n"
     ]
    },
    {
     "name": "stderr",
     "output_type": "stream",
     "text": [
      "Episode: 207 | Return: -88.3736007317039 | Moving Avg Return: -74.12809575479334 | Loss: 60.52:  20%|██        | 205/1000 [00:09<00:42, 18.69it/s]     "
     ]
    },
    {
     "name": "stdout",
     "output_type": "stream",
     "text": [
      "Episode: 200 | Return: -82.29709114264716 | Moving Avg Return: -73.15095496052764 | Loss: 86.23\n",
      "Actor gradient magnitude: 1.1870013733863635e-11\n",
      "Critic gradient magnitude: 762.7777948379517\n",
      "----------------------\n"
     ]
    },
    {
     "name": "stderr",
     "output_type": "stream",
     "text": [
      "Episode: 306 | Return: -99.4388541355211 | Moving Avg Return: -78.17014117825052 | Loss: 613.87:  30%|███       | 304/1000 [00:12<00:18, 37.53it/s]    "
     ]
    },
    {
     "name": "stdout",
     "output_type": "stream",
     "text": [
      "Episode: 300 | Return: -82.91216430849788 | Moving Avg Return: -79.03021677033321 | Loss: 143.22\n",
      "Actor gradient magnitude: 1.0514052146276542e-09\n",
      "Critic gradient magnitude: 2418.761667251587\n",
      "----------------------\n"
     ]
    },
    {
     "name": "stderr",
     "output_type": "stream",
     "text": [
      "Episode: 404 | Return: -105.5324659568443 | Moving Avg Return: -81.98551126121514 | Loss: 370.64:  40%|████      | 403/1000 [00:14<00:18, 32.42it/s]  "
     ]
    },
    {
     "name": "stdout",
     "output_type": "stream",
     "text": [
      "Episode: 400 | Return: -86.29280636976075 | Moving Avg Return: -83.02502772346028 | Loss: 16.78\n",
      "Actor gradient magnitude: 4.178244195074399e-08\n",
      "Critic gradient magnitude: 406.36248326301575\n",
      "----------------------\n"
     ]
    },
    {
     "name": "stderr",
     "output_type": "stream",
     "text": [
      "Episode: 508 | Return: -64.77549263283657 | Moving Avg Return: -82.2416548679743 | Loss: 342.10:  51%|█████     | 508/1000 [00:17<00:12, 38.66it/s]    "
     ]
    },
    {
     "name": "stdout",
     "output_type": "stream",
     "text": [
      "Episode: 500 | Return: -94.69040209098928 | Moving Avg Return: -80.66288320012944 | Loss: 133.78\n",
      "Actor gradient magnitude: 1.3017151362534742e-15\n",
      "Critic gradient magnitude: 3223.2841091156006\n",
      "----------------------\n"
     ]
    },
    {
     "name": "stderr",
     "output_type": "stream",
     "text": [
      "Episode: 607 | Return: -53.81263219830597 | Moving Avg Return: -71.8225259224875 | Loss: 85.99:  61%|██████    | 607/1000 [00:20<00:10, 37.95it/s]    "
     ]
    },
    {
     "name": "stdout",
     "output_type": "stream",
     "text": [
      "Episode: 600 | Return: -75.61222303094866 | Moving Avg Return: -76.42483474454036 | Loss: 1109.55\n",
      "Actor gradient magnitude: 2.2448924663631686e-09\n",
      "Critic gradient magnitude: 5309.546913146973\n",
      "----------------------\n"
     ]
    },
    {
     "name": "stderr",
     "output_type": "stream",
     "text": [
      "Episode: 706 | Return: -82.8431480754128 | Moving Avg Return: -78.48315209159281 | Loss: 107.10:  71%|███████   | 706/1000 [00:22<00:08, 36.29it/s]   "
     ]
    },
    {
     "name": "stdout",
     "output_type": "stream",
     "text": [
      "Episode: 700 | Return: -86.98950444378856 | Moving Avg Return: -78.48073109703793 | Loss: 28.52\n",
      "Actor gradient magnitude: 5.73031758243719e-16\n",
      "Critic gradient magnitude: 926.8940782546997\n",
      "----------------------\n"
     ]
    },
    {
     "name": "stderr",
     "output_type": "stream",
     "text": [
      "Episode: 808 | Return: -74.1235112429273 | Moving Avg Return: -79.52378271583925 | Loss: 46.83:  81%|████████  | 809/1000 [00:25<00:04, 38.81it/s]    "
     ]
    },
    {
     "name": "stdout",
     "output_type": "stream",
     "text": [
      "Episode: 800 | Return: -87.15992544307892 | Moving Avg Return: -75.19868113201477 | Loss: 159.63\n",
      "Actor gradient magnitude: 5.654927743847793e-07\n",
      "Critic gradient magnitude: 2705.5050296783447\n",
      "----------------------\n"
     ]
    },
    {
     "name": "stderr",
     "output_type": "stream",
     "text": [
      "Episode: 906 | Return: -5.874243930427664 | Moving Avg Return: -77.11156782032201 | Loss: 6973.62:  91%|█████████ | 906/1000 [00:28<00:03, 24.67it/s] "
     ]
    },
    {
     "name": "stdout",
     "output_type": "stream",
     "text": [
      "Episode: 900 | Return: -22.503903185910193 | Moving Avg Return: -75.44203256083479 | Loss: 1236.25\n",
      "Actor gradient magnitude: 5.664241113905594e-11\n",
      "Critic gradient magnitude: 3983.994773864746\n",
      "----------------------\n"
     ]
    },
    {
     "name": "stderr",
     "output_type": "stream",
     "text": [
      "Episode: 999 | Return: -105.37232947233284 | Moving Avg Return: -82.26554681813951 | Loss: 534.30: 100%|██████████| 1000/1000 [00:31<00:00, 31.58it/s]\n"
     ]
    },
    {
     "name": "stdout",
     "output_type": "stream",
     "text": [
      "dict_keys(['ep_lengths', 'actor_grad_mag', 'critic_grad_mag', 'actor_loss', 'critic_loss', 'episode_returns'])\n",
      "(averages - arr_err).shape=(1000,)\n"
     ]
    },
    {
     "data": {
      "image/png": "[encoded data removed]",
      "text/plain": [
       "<Figure size 1200x800 with 1 Axes>"
      ]
     },
     "metadata": {},
     "output_type": "display_data"
    },
    {
     "name": "stdout",
     "output_type": "stream",
     "text": [
      "(averages - arr_err).shape=(1000,)\n"
     ]
    },
    {
     "data": {
      "image/png": "[encoded data removed]",
      "text/plain": [
       "<Figure size 1200x800 with 1 Axes>"
      ]
     },
     "metadata": {},
     "output_type": "display_data"
    }
   ],
   "source": [
    "def train_lunar():\n",
    "    lunar_env = gym.make('LunarLander-v3')\n",
    "\n",
    "    train_params = {\n",
    "        'state_size': 8,\n",
    "        'num_episodes': 1000,\n",
    "        'num_trials': 1,\n",
    "        'actor_learning_rate': 5e-3, # 3e-4,\n",
    "        'critic_learning_rate': 5e-3, #1e-3,\n",
    "        'gamma': 0.99,\n",
    "        # 'train_timesteps': 300_000, # my_env.max_time_steps * 1000, # 500_000,\n",
    "        'entropy_coef': 0.01,\n",
    "        'buffer_size': 10_000,\n",
    "        # 'batch_size': 256,\n",
    "        'update_frequency': 1, # 10_000,\n",
    "        'warmup_period': 10_000,\n",
    "        'save_filename': './ppo-lunar-lander',\n",
    "        'model_save_frequency': 250,\n",
    "        'epsilon': 0.2,\n",
    "        'epochs_per_update': 5,\n",
    "        'avg_return_window': 25,\n",
    "        'log_frequency': 100 # 50_000,\n",
    "    }\n",
    "\n",
    "    ppo_returns = []\n",
    "    ppo_losses = []\n",
    "    ppo_info = {}\n",
    "\n",
    "    for _ in range(train_params['num_trials']):\n",
    "        my_agent = PPOAgent(observation_dim=8, hidden_dim=128, n_hidden=2, action_dim=4) # agent is the same\n",
    "        print(my_agent.policy_net)\n",
    "        my_trainer = PPOAgentTrainer(my_agent, lunar_env, train_params)\n",
    "        returns, losses, info = my_trainer.run_train_simple()\n",
    "\n",
    "        ppo_returns.append(returns)\n",
    "        ppo_losses.append(losses)\n",
    "        for key, val in info.items():\n",
    "            ppo_info.setdefault(key, [])\n",
    "            ppo_info[key].append(val)\n",
    "\n",
    "    return ppo_returns, ppo_losses, ppo_info\n",
    "\n",
    "\n",
    "train_ret_tuple = train_lunar()\n",
    "lunar_returns, lunar_losses, lunar_info = train_ret_tuple\n",
    "print(lunar_info.keys())\n",
    "plot_curves([np.array(lunar_returns)], ['PPO'], ['r'], 'Return', 'Episode Returns, PPO on Lunar Lander', smoothing = True)\n",
    "plot_curves([np.array(lunar_losses)], ['PPO'], ['b'], 'Loss', 'Training Loss, PPO on Lunar Lander', smoothing = True)\n",
    "\n",
    "with open('ppo-lunar.pickle', 'wb') as handle:\n",
    "    pickle.dump(train_ret_tuple, handle, protocol=pickle.HIGHEST_PROTOCOL)"
   ]
  },
  {
   "cell_type": "code",
   "execution_count": null,
   "metadata": {},
   "outputs": [],
   "source": []
  }
 ],
 "metadata": {
  "kernelspec": {
   "display_name": "Python 3",
   "language": "python",
   "name": "python3"
  },
  "language_info": {
   "codemirror_mode": {
    "name": "ipython",
    "version": 3
   },
   "file_extension": ".py",
   "mimetype": "text/x-python",
   "name": "python",
   "nbconvert_exporter": "python",
   "pygments_lexer": "ipython3",
   "version": "3.11.7"
  }
 },
 "nbformat": 4,
 "nbformat_minor": 2
}
